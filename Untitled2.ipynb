{
 "cells": [
  {
   "cell_type": "code",
   "execution_count": 25,
   "metadata": {},
   "outputs": [],
   "source": [
    "import datetime as dt\n",
    "from datetime import datetime\n",
    "from collections import defaultdict\n",
    "import matplotlib.pyplot as plt\n",
    "from altair import datum\n",
    "import os\n",
    "# pandas for data manipulation\n",
    "import pandas as pd\n",
    "import numpy as np\n",
    "# matplotlib for plotting graphs\n",
    "%matplotlib inline\n",
    "import seaborn as sns"
   ]
  },
  {
   "cell_type": "markdown",
   "metadata": {},
   "source": [
    "additive model: represent a time-series as a combination of patterns at different scales such as daily, weekly, seasonally, and yearly, along with an overall trend."
   ]
  },
  {
   "cell_type": "markdown",
   "metadata": {},
   "source": [
    " when it comes to financial data, past performance is no indicator of future performance."
   ]
  },
  {
   "cell_type": "code",
   "execution_count": 15,
   "metadata": {},
   "outputs": [],
   "source": [
    "data = pd.read_csv('SCOM Historical Data.csv')"
   ]
  },
  {
   "cell_type": "code",
   "execution_count": 16,
   "metadata": {},
   "outputs": [
    {
     "name": "stdout",
     "output_type": "stream",
     "text": [
      "Column names: Index(['Date', 'Price', 'Open', 'High', 'Low', 'Vol.', 'Change %'], dtype='object')\n"
     ]
    }
   ],
   "source": [
    "print(\"Column names:\", data.columns)"
   ]
  },
  {
   "cell_type": "code",
   "execution_count": 17,
   "metadata": {},
   "outputs": [
    {
     "name": "stdout",
     "output_type": "stream",
     "text": [
      "Number of rowsand comlumns: (1805, 7)\n"
     ]
    }
   ],
   "source": [
    "print(\"Number of rowsand comlumns:\", data.shape)"
   ]
  },
  {
   "cell_type": "code",
   "execution_count": 7,
   "metadata": {},
   "outputs": [
    {
     "data": {
      "text/html": [
       "<div>\n",
       "<style scoped>\n",
       "    .dataframe tbody tr th:only-of-type {\n",
       "        vertical-align: middle;\n",
       "    }\n",
       "\n",
       "    .dataframe tbody tr th {\n",
       "        vertical-align: top;\n",
       "    }\n",
       "\n",
       "    .dataframe thead th {\n",
       "        text-align: right;\n",
       "    }\n",
       "</style>\n",
       "<table border=\"1\" class=\"dataframe\">\n",
       "  <thead>\n",
       "    <tr style=\"text-align: right;\">\n",
       "      <th></th>\n",
       "      <th>Date</th>\n",
       "      <th>Price</th>\n",
       "      <th>Open</th>\n",
       "      <th>High</th>\n",
       "      <th>Low</th>\n",
       "      <th>Vol.</th>\n",
       "      <th>Change %</th>\n",
       "    </tr>\n",
       "  </thead>\n",
       "  <tbody>\n",
       "    <tr>\n",
       "      <td>0</td>\n",
       "      <td>Aug 28, 2019</td>\n",
       "      <td>28.0</td>\n",
       "      <td>29.0</td>\n",
       "      <td>29.0</td>\n",
       "      <td>27.95</td>\n",
       "      <td>2.32M</td>\n",
       "      <td>-0.71%</td>\n",
       "    </tr>\n",
       "    <tr>\n",
       "      <td>1</td>\n",
       "      <td>Aug 27, 2019</td>\n",
       "      <td>28.2</td>\n",
       "      <td>28.2</td>\n",
       "      <td>28.3</td>\n",
       "      <td>28.05</td>\n",
       "      <td>4.93M</td>\n",
       "      <td>-0.35%</td>\n",
       "    </tr>\n",
       "    <tr>\n",
       "      <td>2</td>\n",
       "      <td>Aug 26, 2019</td>\n",
       "      <td>28.3</td>\n",
       "      <td>28.9</td>\n",
       "      <td>28.9</td>\n",
       "      <td>28.00</td>\n",
       "      <td>1.40M</td>\n",
       "      <td>-2.08%</td>\n",
       "    </tr>\n",
       "    <tr>\n",
       "      <td>3</td>\n",
       "      <td>Aug 23, 2019</td>\n",
       "      <td>28.9</td>\n",
       "      <td>29.1</td>\n",
       "      <td>29.1</td>\n",
       "      <td>28.75</td>\n",
       "      <td>220.30K</td>\n",
       "      <td>-0.34%</td>\n",
       "    </tr>\n",
       "    <tr>\n",
       "      <td>4</td>\n",
       "      <td>Aug 22, 2019</td>\n",
       "      <td>29.0</td>\n",
       "      <td>29.1</td>\n",
       "      <td>29.2</td>\n",
       "      <td>28.95</td>\n",
       "      <td>20.13M</td>\n",
       "      <td>-0.34%</td>\n",
       "    </tr>\n",
       "  </tbody>\n",
       "</table>\n",
       "</div>"
      ],
      "text/plain": [
       "           Date  Price  Open  High    Low     Vol. Change %\n",
       "0  Aug 28, 2019   28.0  29.0  29.0  27.95    2.32M   -0.71%\n",
       "1  Aug 27, 2019   28.2  28.2  28.3  28.05    4.93M   -0.35%\n",
       "2  Aug 26, 2019   28.3  28.9  28.9  28.00    1.40M   -2.08%\n",
       "3  Aug 23, 2019   28.9  29.1  29.1  28.75  220.30K   -0.34%\n",
       "4  Aug 22, 2019   29.0  29.1  29.2  28.95   20.13M   -0.34%"
      ]
     },
     "execution_count": 7,
     "metadata": {},
     "output_type": "execute_result"
    }
   ],
   "source": [
    "# show first five rows\n",
    "data.head()"
   ]
  },
  {
   "cell_type": "code",
   "execution_count": 20,
   "metadata": {},
   "outputs": [
    {
     "name": "stdout",
     "output_type": "stream",
     "text": [
      "<class 'pandas.core.frame.DataFrame'>\n",
      "RangeIndex: 1805 entries, 0 to 1804\n",
      "Data columns (total 7 columns):\n",
      "Date        1805 non-null object\n",
      "Price       1805 non-null float64\n",
      "Open        1805 non-null float64\n",
      "High        1805 non-null float64\n",
      "Low         1805 non-null float64\n",
      "Vol.        1805 non-null object\n",
      "Change %    1805 non-null object\n",
      "dtypes: float64(4), object(3)\n",
      "memory usage: 98.8+ KB\n",
      "None\n"
     ]
    }
   ],
   "source": [
    "# Confirm the date column is a string\n",
    "print(data.info())"
   ]
  },
  {
   "cell_type": "code",
   "execution_count": 26,
   "metadata": {},
   "outputs": [
    {
     "name": "stdout",
     "output_type": "stream",
     "text": [
      "<class 'pandas.core.frame.DataFrame'>\n",
      "RangeIndex: 1805 entries, 0 to 1804\n",
      "Data columns (total 7 columns):\n",
      "Date        1805 non-null datetime64[ns]\n",
      "Price       1805 non-null float64\n",
      "Open        1805 non-null float64\n",
      "High        1805 non-null float64\n",
      "Low         1805 non-null float64\n",
      "Vol.        1805 non-null object\n",
      "Change %    1805 non-null object\n",
      "dtypes: datetime64[ns](1), float64(4), object(2)\n",
      "memory usage: 98.8+ KB\n",
      "None\n"
     ]
    },
    {
     "data": {
      "text/html": [
       "<div>\n",
       "<style scoped>\n",
       "    .dataframe tbody tr th:only-of-type {\n",
       "        vertical-align: middle;\n",
       "    }\n",
       "\n",
       "    .dataframe tbody tr th {\n",
       "        vertical-align: top;\n",
       "    }\n",
       "\n",
       "    .dataframe thead th {\n",
       "        text-align: right;\n",
       "    }\n",
       "</style>\n",
       "<table border=\"1\" class=\"dataframe\">\n",
       "  <thead>\n",
       "    <tr style=\"text-align: right;\">\n",
       "      <th></th>\n",
       "      <th>Date</th>\n",
       "      <th>Price</th>\n",
       "      <th>Open</th>\n",
       "      <th>High</th>\n",
       "      <th>Low</th>\n",
       "      <th>Vol.</th>\n",
       "      <th>Change %</th>\n",
       "    </tr>\n",
       "  </thead>\n",
       "  <tbody>\n",
       "    <tr>\n",
       "      <td>0</td>\n",
       "      <td>2019-08-28</td>\n",
       "      <td>28.0</td>\n",
       "      <td>29.0</td>\n",
       "      <td>29.0</td>\n",
       "      <td>27.95</td>\n",
       "      <td>2.32M</td>\n",
       "      <td>-0.71%</td>\n",
       "    </tr>\n",
       "    <tr>\n",
       "      <td>1</td>\n",
       "      <td>2019-08-27</td>\n",
       "      <td>28.2</td>\n",
       "      <td>28.2</td>\n",
       "      <td>28.3</td>\n",
       "      <td>28.05</td>\n",
       "      <td>4.93M</td>\n",
       "      <td>-0.35%</td>\n",
       "    </tr>\n",
       "    <tr>\n",
       "      <td>2</td>\n",
       "      <td>2019-08-26</td>\n",
       "      <td>28.3</td>\n",
       "      <td>28.9</td>\n",
       "      <td>28.9</td>\n",
       "      <td>28.00</td>\n",
       "      <td>1.40M</td>\n",
       "      <td>-2.08%</td>\n",
       "    </tr>\n",
       "    <tr>\n",
       "      <td>3</td>\n",
       "      <td>2019-08-23</td>\n",
       "      <td>28.9</td>\n",
       "      <td>29.1</td>\n",
       "      <td>29.1</td>\n",
       "      <td>28.75</td>\n",
       "      <td>220.30K</td>\n",
       "      <td>-0.34%</td>\n",
       "    </tr>\n",
       "    <tr>\n",
       "      <td>4</td>\n",
       "      <td>2019-08-22</td>\n",
       "      <td>29.0</td>\n",
       "      <td>29.1</td>\n",
       "      <td>29.2</td>\n",
       "      <td>28.95</td>\n",
       "      <td>20.13M</td>\n",
       "      <td>-0.34%</td>\n",
       "    </tr>\n",
       "  </tbody>\n",
       "</table>\n",
       "</div>"
      ],
      "text/plain": [
       "        Date  Price  Open  High    Low     Vol. Change %\n",
       "0 2019-08-28   28.0  29.0  29.0  27.95    2.32M   -0.71%\n",
       "1 2019-08-27   28.2  28.2  28.3  28.05    4.93M   -0.35%\n",
       "2 2019-08-26   28.3  28.9  28.9  28.00    1.40M   -2.08%\n",
       "3 2019-08-23   28.9  29.1  29.1  28.75  220.30K   -0.34%\n",
       "4 2019-08-22   29.0  29.1  29.2  28.95   20.13M   -0.34%"
      ]
     },
     "execution_count": 26,
     "metadata": {},
     "output_type": "execute_result"
    }
   ],
   "source": [
    "# The date column is indeed a string, which—remember—is denoted as an 'object' type in Python\n",
    "# You can convert it to the datetime type with the .to_datetime() method in pandas\n",
    "# Complete the call to convert the date column\n",
    "data['Date'] =  pd.to_datetime(data['Date'], format='%b %d, %Y')\n",
    "\n",
    "# Confirm the date column is in datetime format\n",
    "print(data.info())\n",
    "\n",
    "# show first five rows\n",
    "data.head()"
   ]
  },
  {
   "cell_type": "markdown",
   "metadata": {},
   "source": [
    "## Data Exploration"
   ]
  },
  {
   "cell_type": "code",
   "execution_count": 24,
   "metadata": {},
   "outputs": [
    {
     "name": "stderr",
     "output_type": "stream",
     "text": [
      "/home/thomse/miniconda3/envs/time-series/lib/python3.7/site-packages/pandas/plotting/_matplotlib/converter.py:103: FutureWarning: Using an implicitly registered datetime converter for a matplotlib plotting method. The converter was registered by pandas on import. Future versions of pandas will require you to explicitly register matplotlib converters.\n",
      "\n",
      "To register the converters:\n",
      "\t>>> from pandas.plotting import register_matplotlib_converters\n",
      "\t>>> register_matplotlib_converters()\n",
      "  warnings.warn(msg, FutureWarning)\n"
     ]
    },
    {
     "data": {
      "image/png": "[encoded data removed]",
      "text/plain": [
       "<Figure size 432x288 with 1 Axes>"
      ]
     },
     "metadata": {
      "needs_background": "light"
     },
     "output_type": "display_data"
    }
   ],
   "source": [
    "plt.plot(data['Date'], data['Price'])\n",
    "plt.title('Safaricom Stock Price')\n",
    "plt.ylabel('Price (KES)');\n",
    "plt.show()"
   ]
  },
  {
   "cell_type": "code",
   "execution_count": 35,
   "metadata": {},
   "outputs": [
    {
     "name": "stdout",
     "output_type": "stream",
     "text": [
      "defaultdict(<class 'float'>, {2019: 4462.2, 2018: 6872.95, 2017: 5464.849999999998, 2016: 4532.550000000001, 2015: 3923.3500000000004, 2014: 3170.649999999999, 2013: 1856.5000000000002, 2012: 584.46})\n",
      "defaultdict(<class 'float'>, {2019: 166.0, 2018: 250.0, 2017: 246.0, 2016: 250.0, 2015: 253.0, 2014: 251.0, 2013: 248.0, 2012: 141.0})\n",
      "{2019: 26.880722891566265, 2018: 27.491799999999998, 2017: 22.214837398373973, 2016: 18.130200000000006, 2015: 15.507312252964429, 2014: 12.632071713147408, 2013: 7.485887096774195, 2012: 4.145106382978724}\n"
     ]
    },
    {
     "data": {
      "image/png": "[encoded data removed]",
      "text/plain": [
       "<Figure size 432x288 with 1 Axes>"
      ]
     },
     "metadata": {
      "needs_background": "light"
     },
     "output_type": "display_data"
    }
   ],
   "source": [
    "# yearly\n",
    "# Date attributes are frequently used to group data by a particular time frame.\n",
    "# Initialize defaultdict of type float\n",
    "yearly_total_price = defaultdict(float)\n",
    "\n",
    "yearly_total_days = defaultdict(float)\n",
    "\n",
    "# Loop over the rows of eth\n",
    "for day in data.iterrows():\n",
    "    # Get the date\n",
    "    dates = day[1][0]\n",
    "\n",
    "    # Get the closing price\n",
    "    days_price = day[1][1]\n",
    "\n",
    "    # Add the days price to the current value for the year\n",
    "    yearly_total_price[dates.year] += days_price\n",
    "    yearly_total_days[dates.year] += 1\n",
    "    \n",
    "\n",
    "price_per_year = dict()\n",
    "for key, total_price in yearly_total_price.items():\n",
    "    price_per_year[key] = total_price/yearly_total_days.get(key, 1)\n",
    "    \n",
    "# Print yearly data\n",
    "print(yearly_total_price)\n",
    "print(yearly_total_days)\n",
    "print(price_per_year)\n",
    "\n",
    "# Visualize aggregated data\n",
    "plt.bar(range(len(price_per_year)), list(price_per_year.values()), align='center')\n",
    "plt.xticks(range(len(price_per_year)), list(price_per_year.keys()))\n",
    "plt.title('# of ethers generated by year')\n",
    "plt.show()"
   ]
  },
  {
   "cell_type": "code",
   "execution_count": 36,
   "metadata": {},
   "outputs": [
    {
     "ename": "AttributeError",
     "evalue": "'RangeIndex' object has no attribute 'year'",
     "output_type": "error",
     "traceback": [
      "\u001b[0;31m---------------------------------------------------------------------------\u001b[0m",
      "\u001b[0;31mAttributeError\u001b[0m                            Traceback (most recent call last)",
      "\u001b[0;32m<ipython-input-36-899de9f756f1>\u001b[0m in \u001b[0;36m<module>\u001b[0;34m\u001b[0m\n\u001b[1;32m      1\u001b[0m \u001b[0;31m# Create a year column\u001b[0m\u001b[0;34m\u001b[0m\u001b[0;34m\u001b[0m\u001b[0;34m\u001b[0m\u001b[0m\n\u001b[0;32m----> 2\u001b[0;31m \u001b[0mdata\u001b[0m\u001b[0;34m[\u001b[0m\u001b[0;34m'Year'\u001b[0m\u001b[0;34m]\u001b[0m \u001b[0;34m=\u001b[0m \u001b[0mdata\u001b[0m\u001b[0;34m.\u001b[0m\u001b[0mindex\u001b[0m\u001b[0;34m.\u001b[0m\u001b[0myear\u001b[0m\u001b[0;34m\u001b[0m\u001b[0;34m\u001b[0m\u001b[0m\n\u001b[0m",
      "\u001b[0;31mAttributeError\u001b[0m: 'RangeIndex' object has no attribute 'year'"
     ]
    }
   ],
   "source": [
    "# Create a year column \n",
    "data['Year'] = data.index.year"
   ]
  },
  {
   "cell_type": "code",
   "execution_count": null,
   "metadata": {},
   "outputs": [],
   "source": []
  }
 ],
 "metadata": {
  "kernelspec": {
   "display_name": "time-series",
   "language": "python",
   "name": "time-series"
  },
  "language_info": {
   "codemirror_mode": {
    "name": "ipython",
    "version": 3
   },
   "file_extension": ".py",
   "mimetype": "text/x-python",
   "name": "python",
   "nbconvert_exporter": "python",
   "pygments_lexer": "ipython3",
   "version": "3.7.4"
  }
 },
 "nbformat": 4,
 "nbformat_minor": 2
}
